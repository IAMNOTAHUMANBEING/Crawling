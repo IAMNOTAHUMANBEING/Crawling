{
 "cells": [
  {
   "cell_type": "code",
   "execution_count": 1,
   "id": "fiscal-granny",
   "metadata": {},
   "outputs": [
    {
     "name": "stdout",
     "output_type": "stream",
     "text": [
      "Collecting pykrx\n",
      "  Downloading pykrx-1.0.16-py3-none-any.whl (81 kB)\n",
      "Requirement already satisfied: requests in c:\\users\\1004\\anaconda3\\envs\\human\\lib\\site-packages (from pykrx) (2.25.1)\n",
      "Collecting deprecated\n",
      "  Downloading Deprecated-1.2.12-py2.py3-none-any.whl (9.5 kB)\n",
      "Requirement already satisfied: pandas in c:\\users\\1004\\anaconda3\\envs\\human\\lib\\site-packages (from pykrx) (1.2.3)\n",
      "Collecting datetime\n",
      "  Downloading DateTime-4.3-py2.py3-none-any.whl (60 kB)\n",
      "Requirement already satisfied: numpy in c:\\users\\1004\\anaconda3\\envs\\human\\lib\\site-packages (from pykrx) (1.19.2)\n",
      "Collecting xlrd\n",
      "  Downloading xlrd-2.0.1-py2.py3-none-any.whl (96 kB)\n",
      "Requirement already satisfied: pytz in c:\\users\\1004\\anaconda3\\envs\\human\\lib\\site-packages (from datetime->pykrx) (2021.1)\n",
      "Collecting zope.interface\n",
      "  Downloading zope.interface-5.4.0-cp39-cp39-win_amd64.whl (210 kB)\n",
      "Collecting wrapt<2,>=1.10\n",
      "  Downloading wrapt-1.12.1.tar.gz (27 kB)\n",
      "Requirement already satisfied: python-dateutil>=2.7.3 in c:\\users\\1004\\anaconda3\\envs\\human\\lib\\site-packages (from pandas->pykrx) (2.8.1)\n",
      "Requirement already satisfied: six>=1.5 in c:\\users\\1004\\anaconda3\\envs\\human\\lib\\site-packages (from python-dateutil>=2.7.3->pandas->pykrx) (1.15.0)\n",
      "Requirement already satisfied: certifi>=2017.4.17 in c:\\users\\1004\\anaconda3\\envs\\human\\lib\\site-packages (from requests->pykrx) (2020.12.5)\n",
      "Requirement already satisfied: urllib3<1.27,>=1.21.1 in c:\\users\\1004\\anaconda3\\envs\\human\\lib\\site-packages (from requests->pykrx) (1.26.5)\n",
      "Requirement already satisfied: idna<3,>=2.5 in c:\\users\\1004\\anaconda3\\envs\\human\\lib\\site-packages (from requests->pykrx) (2.10)\n",
      "Requirement already satisfied: chardet<5,>=3.0.2 in c:\\users\\1004\\anaconda3\\envs\\human\\lib\\site-packages (from requests->pykrx) (4.0.0)\n",
      "Requirement already satisfied: setuptools in c:\\users\\1004\\anaconda3\\envs\\human\\lib\\site-packages (from zope.interface->datetime->pykrx) (52.0.0.post20210125)\n",
      "Building wheels for collected packages: wrapt\n",
      "  Building wheel for wrapt (setup.py): started\n",
      "  Building wheel for wrapt (setup.py): finished with status 'done'\n",
      "  Created wheel for wrapt: filename=wrapt-1.12.1-py3-none-any.whl size=19553 sha256=ab7e4ab7fae7669f355a40201d86b1312800f727fe6ce6cca722e7733e459de9\n",
      "  Stored in directory: c:\\users\\1004\\appdata\\local\\pip\\cache\\wheels\\98\\23\\68\\efe259aaca055e93b08e74fbe512819c69a2155c11ba3c0f10\n",
      "Successfully built wrapt\n",
      "Installing collected packages: zope.interface, wrapt, xlrd, deprecated, datetime, pykrx\n",
      "Successfully installed datetime-4.3 deprecated-1.2.12 pykrx-1.0.16 wrapt-1.12.1 xlrd-2.0.1 zope.interface-5.4.0\n"
     ]
    }
   ],
   "source": [
    "!pip install pykrx"
   ]
  },
  {
   "cell_type": "code",
   "execution_count": 10,
   "id": "absolute-comfort",
   "metadata": {},
   "outputs": [],
   "source": [
    "from pykrx import stock\n",
    "import pandas as pd"
   ]
  },
  {
   "cell_type": "code",
   "execution_count": 15,
   "id": "regulated-customs",
   "metadata": {},
   "outputs": [],
   "source": [
    "start_day = \"20210115\" # ex.20201021\n",
    "finish_day = \"20210122\"\n",
    "market = \"KOSDAQ\"\n",
    "human = \"외국인\""
   ]
  },
  {
   "cell_type": "code",
   "execution_count": 30,
   "id": "amended-depression",
   "metadata": {},
   "outputs": [
    {
     "data": {
      "text/plain": [
       "['091990', '253450', '084370', '096530', '036200']"
      ]
     },
     "execution_count": 30,
     "metadata": {},
     "output_type": "execute_result"
    }
   ],
   "source": [
    "df = stock.get_market_net_purchases_of_equities_by_ticker(start_day, finish_day, market, human)\n",
    "eq = df.index[1:6].tolist()"
   ]
  },
  {
   "cell_type": "code",
   "execution_count": 68,
   "id": "sapphire-ideal",
   "metadata": {},
   "outputs": [
    {
     "data": {
      "text/plain": [
       "티커\n",
       "091990   -8.02\n",
       "253450   -3.20\n",
       "084370   -1.52\n",
       "096530   -4.26\n",
       "036200    2.02\n",
       "Name: 등락률, dtype: float32"
      ]
     },
     "execution_count": 68,
     "metadata": {},
     "output_type": "execute_result"
    }
   ],
   "source": [
    "df = stock.get_market_ohlcv_by_ticker(\"20210115\", market=\"KOSDAQ\")\n",
    "df.loc[eq]['등락률']"
   ]
  },
  {
   "cell_type": "code",
   "execution_count": null,
   "id": "metric-kitchen",
   "metadata": {},
   "outputs": [],
   "source": []
  }
 ],
 "metadata": {
  "kernelspec": {
   "display_name": "Python 3",
   "language": "python",
   "name": "python3"
  },
  "language_info": {
   "codemirror_mode": {
    "name": "ipython",
    "version": 3
   },
   "file_extension": ".py",
   "mimetype": "text/x-python",
   "name": "python",
   "nbconvert_exporter": "python",
   "pygments_lexer": "ipython3",
   "version": "3.9.2"
  }
 },
 "nbformat": 4,
 "nbformat_minor": 5
}
